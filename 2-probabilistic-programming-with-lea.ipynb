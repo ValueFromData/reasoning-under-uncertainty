{
 "cells": [
  {
   "cell_type": "markdown",
   "metadata": {
    "slideshow": {
     "slide_type": "slide"
    }
   },
   "source": [
    "# Reasoning Under Uncertainty Workshop\n",
    "# PyCon 2015\n",
    "### Part 2 : Probabilistic programming with Lea\n",
    "---\n",
    "\n",
    "**Author** : Ronojoy Adhikari   \n",
    "**Email**  : [rjoy@imsc.res.in]() | **Web**    : [www.imsc.res.in/~rjoy]()  \n",
    "**Github** : [www.github.com/ronojoy]() | **Twitter**: @phyrjoy"
   ]
  },
  {
   "cell_type": "markdown",
   "metadata": {
    "slideshow": {
     "slide_type": "slide"
    }
   },
   "source": [
    "## 2. Introduction to Lea"
   ]
  },
  {
   "cell_type": "markdown",
   "metadata": {
    "slideshow": {
     "slide_type": "slide"
    }
   },
   "source": [
    "### 2.1 : Getting started"
   ]
  },
  {
   "cell_type": "code",
   "execution_count": null,
   "metadata": {
    "collapsed": true,
    "slideshow": {
     "slide_type": "-"
    }
   },
   "outputs": [],
   "source": [
    "from lea import *"
   ]
  },
  {
   "cell_type": "code",
   "execution_count": null,
   "metadata": {
    "collapsed": false,
    "slideshow": {
     "slide_type": "-"
    }
   },
   "outputs": [],
   "source": [
    "# the canonical random variable : a fair coin\n",
    "faircoin = Lea.fromVals('Head', 'Tail')"
   ]
  },
  {
   "cell_type": "code",
   "execution_count": null,
   "metadata": {
    "collapsed": false,
    "slideshow": {
     "slide_type": "-"
    }
   },
   "outputs": [],
   "source": [
    "# toss the coin a few times\n",
    "faircoin.random(10)"
   ]
  },
  {
   "cell_type": "code",
   "execution_count": null,
   "metadata": {
    "collapsed": false,
    "slideshow": {
     "slide_type": "-"
    }
   },
   "outputs": [],
   "source": [
    "# Amitabh Bachan's coin from Sholay\n",
    "sholaycoin = Lea.fromVals('Head', 'Head')\n",
    "\n",
    "# Amitabh always wins (and, heroically, sacrifices himself for Dharamendra!)\n",
    "sholaycoin.random(10)"
   ]
  },
  {
   "cell_type": "code",
   "execution_count": null,
   "metadata": {
    "collapsed": false,
    "slideshow": {
     "slide_type": "-"
    }
   },
   "outputs": [],
   "source": [
    "# more reasonably, a biased coin\n",
    "biasedcoin = Lea.fromValFreqs(('Head', 1), ('Tail', 2))\n",
    "\n",
    "# toss it a few times\n",
    "biasedcoin.random(10)"
   ]
  },
  {
   "cell_type": "code",
   "execution_count": null,
   "metadata": {
    "collapsed": false,
    "slideshow": {
     "slide_type": "-"
    }
   },
   "outputs": [],
   "source": [
    "# random variables with more states : a fair die\n",
    "die = Lea.fromVals(1, 2, 3, 4, 5, 6)\n",
    "# throw the die a few times\n",
    "die.random(20)"
   ]
  },
  {
   "cell_type": "code",
   "execution_count": null,
   "metadata": {
    "collapsed": false,
    "slideshow": {
     "slide_type": "-"
    }
   },
   "outputs": [],
   "source": [
    "# Lea does standard statistics\n",
    "# die.mean\n",
    "# die.mode\n",
    "# die.var\n",
    "# die.entropy"
   ]
  },
  {
   "cell_type": "markdown",
   "metadata": {
    "slideshow": {
     "slide_type": "slide"
    }
   },
   "source": [
    "**Summary** : Random variables are objects. ``N`` samples are drawn from the random variable ``y`` using\n",
    "```Python\n",
    "y.random(N)\n",
    "```\n",
    "Standard statistical measures of distributions are provided. Nothing extraordinary (yet!).\n",
    "\n",
    "**Exercise** : Write a Python code that produces the same output as the following Lea code\n",
    "```Python\n",
    "Lea.fromVals('rain', 'sun').random(20)\n",
    "```\n",
    "How many lines do you need in Python ? "
   ]
  },
  {
   "cell_type": "markdown",
   "metadata": {
    "slideshow": {
     "slide_type": "slide"
    }
   },
   "source": [
    "### 2.2 Coolness : groking random variables"
   ]
  },
  {
   "cell_type": "code",
   "execution_count": null,
   "metadata": {
    "collapsed": true
   },
   "outputs": [],
   "source": [
    "# Lets create a pair of dies\n",
    "die1 = die.clone()\n",
    "die2 = die.clone()"
   ]
  },
  {
   "cell_type": "code",
   "execution_count": null,
   "metadata": {
    "collapsed": true
   },
   "outputs": [],
   "source": [
    "# The throw of dice\n",
    "dice = die1 + die2"
   ]
  },
  {
   "cell_type": "code",
   "execution_count": null,
   "metadata": {
    "collapsed": false
   },
   "outputs": [],
   "source": [
    "# This really groks random variables! \n",
    "# The probability distribution of the sum is transparently calculated\n",
    "dice"
   ]
  },
  {
   "cell_type": "code",
   "execution_count": null,
   "metadata": {
    "collapsed": false
   },
   "outputs": [],
   "source": [
    "dice.random(10)"
   ]
  },
  {
   "cell_type": "code",
   "execution_count": null,
   "metadata": {
    "collapsed": false
   },
   "outputs": [],
   "source": [
    "dice.mean"
   ]
  },
  {
   "cell_type": "code",
   "execution_count": null,
   "metadata": {
    "collapsed": false
   },
   "outputs": [],
   "source": [
    "dice.mode"
   ]
  },
  {
   "cell_type": "code",
   "execution_count": null,
   "metadata": {
    "collapsed": false
   },
   "outputs": [],
   "source": [
    "print dice.histo()"
   ]
  },
  {
   "cell_type": "markdown",
   "metadata": {
    "slideshow": {
     "slide_type": "slide"
    }
   },
   "source": [
    "**Summary** \n",
    "\n",
    "Random variables are abstract objects. Methods are available for operating on them **algebraically**. The probability\n",
    "distributions, methods for drawing random samples, statistical metrics, are transparently propagated."
   ]
  },
  {
   "cell_type": "markdown",
   "metadata": {
    "slideshow": {
     "slide_type": "slide"
    }
   },
   "source": [
    "### 2.3 More coolness : conditioning"
   ]
  },
  {
   "cell_type": "markdown",
   "metadata": {},
   "source": [
    "> \"You just threw two dice. Can you guess the result ?\""
   ]
  },
  {
   "cell_type": "markdown",
   "metadata": {
    "slideshow": {
     "slide_type": "fragment"
    }
   },
   "source": [
    ">\"Here's a tip : the sum is less than 6\" "
   ]
  },
  {
   "cell_type": "code",
   "execution_count": null,
   "metadata": {
    "collapsed": false,
    "slideshow": {
     "slide_type": "subslide"
    }
   },
   "outputs": [],
   "source": [
    "## We can create a new distribution, conditioned on our state of knowledge : P(sum | sum <= 6)\n",
    "conditionalDice = dice.given(dice<=6)"
   ]
  },
  {
   "cell_type": "code",
   "execution_count": null,
   "metadata": {
    "collapsed": false,
    "slideshow": {
     "slide_type": "subslide"
    }
   },
   "outputs": [],
   "source": [
    "## What is our best guess for the result of the throw ? \n",
    "conditionalDice.mode"
   ]
  },
  {
   "cell_type": "code",
   "execution_count": null,
   "metadata": {
    "collapsed": false,
    "slideshow": {
     "slide_type": "subslide"
    }
   },
   "outputs": [],
   "source": [
    "## Conditioning can be done in many ways : suppose we know that the first die came up 3. \n",
    "dice.given(die1 == 3)"
   ]
  },
  {
   "cell_type": "code",
   "execution_count": null,
   "metadata": {
    "collapsed": true,
    "slideshow": {
     "slide_type": "subslide"
    }
   },
   "outputs": [],
   "source": [
    "## Conditioning can be done in still more ways : suppose we know that **either** of the two dies came up 3\n",
    "dice.given((die1 == 3) | (die2 == 3))"
   ]
  },
  {
   "cell_type": "markdown",
   "metadata": {
    "slideshow": {
     "slide_type": "subslide"
    }
   },
   "source": [
    "**Summary**\n",
    "\n",
    "Conditioning, which is the first step towards inference, is done automatically. A wide variety of conditions can be used. P(A | B) translates to ``a.given(b)``."
   ]
  },
  {
   "cell_type": "markdown",
   "metadata": {
    "slideshow": {
     "slide_type": "slide"
    }
   },
   "source": [
    "## Diagnostic reasoning under uncertainty\n",
    "\n",
    "\n",
    "> **Problem 1** : An entomologist spots what might be a rare subspecies of beetle, due to the pattern on its back. In the rare subspecies, 98% have the pattern. In the common subspecies, 5% have the pattern. The rare subspecies accounts for only 0.1% of the population. How likely is it that the beetle belongs to the rare species, given that it has a pattern ?\n",
    "\n",
    "> **Problem 2** : 1% of women at age forty who participate in routine\n",
    "screening have breast cancer.  80% of women with\n",
    "breast cancer will get positive mammographies. 9.6%\n",
    "of women without breast cancer will also get positive\n",
    "mammographies. A woman in this age group had a positive\n",
    "mammography in a routine screening.  What is the\n",
    "probability that she actually has breast cancer?"
   ]
  },
  {
   "cell_type": "code",
   "execution_count": null,
   "metadata": {
    "collapsed": false,
    "slideshow": {
     "slide_type": "subslide"
    }
   },
   "outputs": [],
   "source": [
    "# 'the rare subspecies accounts for only 0.1% of the population'\n",
    "species = Lea.fromValFreqs(('common', 999), ('rare', 1))\n",
    "\n",
    "# lets check the beetle distribution\n",
    "print species.asPct()"
   ]
  },
  {
   "cell_type": "code",
   "execution_count": null,
   "metadata": {
    "collapsed": false,
    "slideshow": {
     "slide_type": "subslide"
    }
   },
   "outputs": [],
   "source": [
    "# 'in the rare subspecies, 98% have the pattern'\n",
    "pattern_on_rare = Lea.boolProb(98, 100)\n",
    "print pattern_on_rare.asPct()"
   ]
  },
  {
   "cell_type": "code",
   "execution_count": null,
   "metadata": {
    "collapsed": false,
    "slideshow": {
     "slide_type": "subslide"
    }
   },
   "outputs": [],
   "source": [
    "# 'in the common subspecies, 5% have the pattern'\n",
    "pattern_on_common = Lea.boolProb(5, 100)\n",
    "print pattern_on_common.asPct()"
   ]
  },
  {
   "cell_type": "code",
   "execution_count": null,
   "metadata": {
    "collapsed": false,
    "slideshow": {
     "slide_type": "subslide"
    }
   },
   "outputs": [],
   "source": [
    "# pattern is a random variable that is conditioned on species\n",
    "pattern = Lea.buildCPT((species=='common', pattern_on_common), ( species=='rare', pattern_on_rare))"
   ]
  },
  {
   "cell_type": "code",
   "execution_count": null,
   "metadata": {
    "collapsed": false,
    "slideshow": {
     "slide_type": "subslide"
    }
   },
   "outputs": [],
   "source": [
    "# the power of conditioning\n",
    "print 'Probability of pattern in the common species is \\n', pattern.given(species=='common').asPct()\n",
    "print 'Probability of pattern in the rare species is \\n', pattern.given(species=='rare').asPct()"
   ]
  },
  {
   "cell_type": "code",
   "execution_count": null,
   "metadata": {
    "collapsed": false,
    "slideshow": {
     "slide_type": "subslide"
    }
   },
   "outputs": [],
   "source": [
    "# what is probability of species, given that pattern is present ? \n",
    "# one beautiful line of code gives you the answer\n",
    "species.given(pattern) "
   ]
  },
  {
   "cell_type": "code",
   "execution_count": null,
   "metadata": {
    "collapsed": false,
    "slideshow": {
     "slide_type": "subslide"
    }
   },
   "outputs": [],
   "source": [
    "# what is probability of species, given that the pattern is absent ? \n",
    "# another beautiful line of code gives you the answer\n",
    "species.given(~pattern)"
   ]
  },
  {
   "cell_type": "code",
   "execution_count": null,
   "metadata": {
    "collapsed": false,
    "slideshow": {
     "slide_type": "subslide"
    }
   },
   "outputs": [],
   "source": [
    "# and, now some show off : all possibilities\n",
    "Lea.cprod(species, pattern)"
   ]
  },
  {
   "cell_type": "markdown",
   "metadata": {
    "slideshow": {
     "slide_type": "slide"
    }
   },
   "source": [
    "**Summary**: [Lea]() contains the necessary features of a probilistic programming language:\n",
    "- random variables are represented as probability distribution objects\n",
    "- algebraic operations can be performed on the random variables\n",
    "- random variables can be conditioned on other random variables\n",
    "- inference is automatic\n",
    "\n",
    "Though [Lea]() is currently limited to **discrete** random variables it is an excellent programe to learn the **paradigm** of probabilistic programming. \n",
    "\n",
    "We will now move on to more complex models and reasoning with them, using [Lea]() and [Pomegranate]()."
   ]
  }
 ],
 "metadata": {
  "celltoolbar": "Slideshow",
  "kernelspec": {
   "display_name": "Python 2",
   "language": "python",
   "name": "python2"
  },
  "language_info": {
   "codemirror_mode": {
    "name": "ipython",
    "version": 2
   },
   "file_extension": ".py",
   "mimetype": "text/x-python",
   "name": "python",
   "nbconvert_exporter": "python",
   "pygments_lexer": "ipython2",
   "version": "2.7.10"
  }
 },
 "nbformat": 4,
 "nbformat_minor": 0
}
