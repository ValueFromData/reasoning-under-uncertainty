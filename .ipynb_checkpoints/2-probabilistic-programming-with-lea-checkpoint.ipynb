{
 "cells": [
  {
   "cell_type": "markdown",
   "metadata": {
    "slideshow": {
     "slide_type": "slide"
    }
   },
   "source": [
    "# Reasoning Under Uncertainty Workshop\n",
    "# PyCon 2015\n",
    "### Probabilistic programming with Lea\n",
    "---\n",
    "\n",
    "**Author** : Ronojoy Adhikari   \n",
    "**Email**  : [rjoy@imsc.res.in]() | **Web**    : [www.imsc.res.in/~rjoy]()  \n",
    "**Github** : [www.github.com/ronojoy]() | **Twitter**: @phyrjoy"
   ]
  },
  {
   "cell_type": "markdown",
   "metadata": {},
   "source": [
    "## Part 1 : Introduction to Lea"
   ]
  },
  {
   "cell_type": "markdown",
   "metadata": {
    "slideshow": {
     "slide_type": "slide"
    }
   },
   "source": [
    "### 1.1 : Getting started"
   ]
  },
  {
   "cell_type": "code",
   "execution_count": null,
   "metadata": {
    "collapsed": true,
    "slideshow": {
     "slide_type": "-"
    }
   },
   "outputs": [],
   "source": [
    "from lea import *"
   ]
  },
  {
   "cell_type": "code",
   "execution_count": null,
   "metadata": {
    "collapsed": false,
    "slideshow": {
     "slide_type": "-"
    }
   },
   "outputs": [],
   "source": [
    "# the canonical random variable : a fair coin\n",
    "faircoin = Lea.fromVals('Head', 'Tail')"
   ]
  },
  {
   "cell_type": "code",
   "execution_count": null,
   "metadata": {
    "collapsed": false,
    "slideshow": {
     "slide_type": "-"
    }
   },
   "outputs": [],
   "source": [
    "# toss the coin a few times\n",
    "faircoin.random(10)"
   ]
  },
  {
   "cell_type": "code",
   "execution_count": null,
   "metadata": {
    "collapsed": false,
    "slideshow": {
     "slide_type": "-"
    }
   },
   "outputs": [],
   "source": [
    "# Amitabh Bachan's coin from Sholay\n",
    "sholaycoin = Lea.fromVals('Head', 'Head')\n",
    "\n",
    "# Amitabh always wins (and, heroically, sacrifices himself for Dharamendra!)\n",
    "sholaycoin.random(10)"
   ]
  },
  {
   "cell_type": "code",
   "execution_count": null,
   "metadata": {
    "collapsed": false,
    "slideshow": {
     "slide_type": "-"
    }
   },
   "outputs": [],
   "source": [
    "# more reasonably, a biased coin\n",
    "biasedcoin = Lea.fromValFreqs(('Head', 1), ('Tail', 2))\n",
    "# toss it a few times\n",
    "biasedcoin.random(10)"
   ]
  },
  {
   "cell_type": "code",
   "execution_count": 28,
   "metadata": {
    "collapsed": false,
    "slideshow": {
     "slide_type": "-"
    }
   },
   "outputs": [],
   "source": [
    "# random variables with more states : a fair die\n",
    "die = Lea.fromVals(1, 2, 3, 4, 5, 6)\n",
    "# throw the die a few times\n",
    "die.random(20)"
   ]
  },
  {
   "cell_type": "code",
   "execution_count": 29,
   "metadata": {
    "collapsed": false,
    "slideshow": {
     "slide_type": "-"
    }
   },
   "outputs": [],
   "source": [
    "# Lea does standard statistics\n",
    "# die.mean\n",
    "# die.mode\n",
    "# die.var\n",
    "# die.entropy"
   ]
  },
  {
   "cell_type": "markdown",
   "metadata": {
    "slideshow": {
     "slide_type": "-"
    }
   },
   "source": [
    "**Summary** : Random variables are objects. ``N`` samples are drawn from the random variable ``y`` using\n",
    "```Python\n",
    "y.random(N)\n",
    "```\n",
    "Standard statistical measures of distributions are provided. Nothing extraordinary (yet!).\n",
    "\n",
    "**Exercise** : Write a Python code that produces the same output as the following Lea code\n",
    "```Python\n",
    "Lea.fromVals('rain', 'sun').random(20)\n",
    "```\n",
    "How many lines do you need in Python ? "
   ]
  },
  {
   "cell_type": "markdown",
   "metadata": {
    "slideshow": {
     "slide_type": "slide"
    }
   },
   "source": [
    "### 1.2 :  Random variable calculus"
   ]
  },
  {
   "cell_type": "code",
   "execution_count": 30,
   "metadata": {
    "collapsed": true
   },
   "outputs": [],
   "source": [
    "# Lets create a pair of dies\n",
    "die1 = die.clone()\n",
    "die2 = die.clone()"
   ]
  },
  {
   "cell_type": "code",
   "execution_count": null,
   "metadata": {
    "collapsed": true
   },
   "outputs": [],
   "source": [
    "# The throw of dice\n",
    "dice = die1 + die2"
   ]
  },
  {
   "cell_type": "code",
   "execution_count": null,
   "metadata": {
    "collapsed": false
   },
   "outputs": [],
   "source": [
    "dice"
   ]
  },
  {
   "cell_type": "code",
   "execution_count": null,
   "metadata": {
    "collapsed": false
   },
   "outputs": [],
   "source": [
    "dice.random(10)"
   ]
  },
  {
   "cell_type": "code",
   "execution_count": null,
   "metadata": {
    "collapsed": false
   },
   "outputs": [],
   "source": [
    "dice.mean"
   ]
  },
  {
   "cell_type": "code",
   "execution_count": null,
   "metadata": {
    "collapsed": false
   },
   "outputs": [],
   "source": [
    "dice.mode"
   ]
  },
  {
   "cell_type": "code",
   "execution_count": null,
   "metadata": {
    "collapsed": false
   },
   "outputs": [],
   "source": [
    "print dice.histo()"
   ]
  },
  {
   "cell_type": "markdown",
   "metadata": {},
   "source": [
    "**Summary** \n",
    "\n",
    "Random variables are abstract objects. Methods are available for operating on them **algebraically**. The probability\n",
    "distributions, methods for drawing random samples, statistical metrics, are transparently propagated."
   ]
  },
  {
   "cell_type": "markdown",
   "metadata": {
    "slideshow": {
     "slide_type": "slide"
    }
   },
   "source": [
    "### 1.3 Conditioning"
   ]
  },
  {
   "cell_type": "markdown",
   "metadata": {},
   "source": [
    "> \"You just threw two dice. Can you guess the result ?\""
   ]
  },
  {
   "cell_type": "markdown",
   "metadata": {
    "slideshow": {
     "slide_type": "fragment"
    }
   },
   "source": [
    ">\"Here's a tip : the sum is less than 6\" "
   ]
  },
  {
   "cell_type": "code",
   "execution_count": null,
   "metadata": {
    "collapsed": false,
    "slideshow": {
     "slide_type": "subslide"
    }
   },
   "outputs": [],
   "source": [
    "## We can create a new distribution, conditioned on our state of knowledge : P(sum | sum <= 6)\n",
    "conditionalDice = dice.given(dice<=6)"
   ]
  },
  {
   "cell_type": "code",
   "execution_count": null,
   "metadata": {
    "collapsed": false,
    "slideshow": {
     "slide_type": "subslide"
    }
   },
   "outputs": [],
   "source": [
    "## What is our best guess for the result of the throw ? \n",
    "conditionalDice.mode"
   ]
  },
  {
   "cell_type": "code",
   "execution_count": null,
   "metadata": {
    "collapsed": false,
    "slideshow": {
     "slide_type": "subslide"
    }
   },
   "outputs": [],
   "source": [
    "## Conditioning can be done in many ways : suppose we know that the first die came up 3. \n",
    "dice.given(die1 == 3)"
   ]
  },
  {
   "cell_type": "code",
   "execution_count": null,
   "metadata": {
    "collapsed": false,
    "slideshow": {
     "slide_type": "subslide"
    }
   },
   "outputs": [],
   "source": [
    "## Conditioning can be done in still more ways : suppose we know that **either** of the two dies came up 3\n",
    "dice.given((die1 == 3) | (die2 == 3))"
   ]
  },
  {
   "cell_type": "markdown",
   "metadata": {
    "slideshow": {
     "slide_type": "subslide"
    }
   },
   "source": [
    "**Summary**\n",
    "\n",
    "Conditioning, which is the first step towards inference, is done automatically. A wide variety of conditions can be used. P(A | B) translates to ``a.given(b)``."
   ]
  },
  {
   "cell_type": "markdown",
   "metadata": {
    "slideshow": {
     "slide_type": "slide"
    }
   },
   "source": [
    "### 1.4 Reasoning under uncertainty \"PPL style\""
   ]
  },
  {
   "cell_type": "markdown",
   "metadata": {},
   "source": [
    "> Replace with medical example"
   ]
  },
  {
   "cell_type": "code",
   "execution_count": null,
   "metadata": {
    "collapsed": false
   },
   "outputs": [],
   "source": [
    "# Species is a random variable with states \"common\" and \"rare\", with probabilities determined by the population. Since\n",
    "# are only two states, species states are, equivalently, \"rare\" and \"not rare\". Species can be a Boolean!\n",
    "rare = Lea.boolProb(1,1000)"
   ]
  },
  {
   "cell_type": "code",
   "execution_count": null,
   "metadata": {
    "collapsed": true
   },
   "outputs": [],
   "source": [
    "# Similarly, pattern is either \"present\" or \"not present\". It too is a Boolean, but, its probability distribution\n",
    "# is conditioned on \"rare\" or \"not rare\"\n",
    "patternIfrare = Lea.boolProb(98, 100)\n",
    "patternIfNotrare = Lea.boolProb(5, 100)"
   ]
  },
  {
   "cell_type": "code",
   "execution_count": null,
   "metadata": {
    "collapsed": false
   },
   "outputs": [],
   "source": [
    "# Now, lets build the conditional probability table for P(pattern | species)\n",
    "pattern = Lea.buildCPT((rare , patternIfrare), ( ~rare , patternIfNotrare))"
   ]
  },
  {
   "cell_type": "code",
   "execution_count": null,
   "metadata": {
    "collapsed": false
   },
   "outputs": [],
   "source": [
    "# Sanity check : do we get what we put in ? \n",
    "pattern.given(rare)"
   ]
  },
  {
   "cell_type": "code",
   "execution_count": null,
   "metadata": {
    "collapsed": false
   },
   "outputs": [],
   "source": [
    "# Finally, our moment of truth : Bayesian inference - what is P(rare | pattern )? \n",
    "rare.given(pattern)"
   ]
  },
  {
   "cell_type": "code",
   "execution_count": null,
   "metadata": {
    "collapsed": false
   },
   "outputs": [],
   "source": [
    "# And, now some show off : what is the probability of being rare and having a pattern ? \n",
    "rare & pattern"
   ]
  },
  {
   "cell_type": "code",
   "execution_count": null,
   "metadata": {
    "collapsed": false
   },
   "outputs": [],
   "source": [
    "# All possible outcomes\n",
    "Lea.cprod(rare,pattern)"
   ]
  },
  {
   "cell_type": "markdown",
   "metadata": {},
   "source": [
    "**Summary**: Lea contains the necessary features of a probilistic programming language:\n",
    "- random variables are represented as probability distribution objects\n",
    "- algebraic operations can be performed on the random variables\n",
    "- random variables can be conditioned on other random variables\n",
    "It is an excellent way to learn the **paradigms** of probabilistic programming. \n",
    "\n",
    "Though Lea is currently limited to **discrete** random variables it is an excellent programe to learn the **paradigm** of probabilistic programming. We will now move on to a more sophisticated tool for probabilistic graphical models called [Pomegranate]()."
   ]
  }
 ],
 "metadata": {
  "kernelspec": {
   "display_name": "Python 2",
   "language": "python",
   "name": "python2"
  },
  "language_info": {
   "codemirror_mode": {
    "name": "ipython",
    "version": 2
   },
   "file_extension": ".py",
   "mimetype": "text/x-python",
   "name": "python",
   "nbconvert_exporter": "python",
   "pygments_lexer": "ipython2",
   "version": "2.7.10"
  }
 },
 "nbformat": 4,
 "nbformat_minor": 0
}
