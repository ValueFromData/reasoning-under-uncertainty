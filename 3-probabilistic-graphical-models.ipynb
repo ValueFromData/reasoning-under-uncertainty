{
 "cells": [
  {
   "cell_type": "markdown",
   "metadata": {
    "slideshow": {
     "slide_type": "slide"
    }
   },
   "source": [
    "# Reasoning Under Uncertainty Workshop\n",
    "# PyCon 2015\n",
    "### Part 3 : Probabilistic graphical models\n",
    "---\n",
    "\n",
    "**Author** : Ronojoy Adhikari   \n",
    "**Email**  : [rjoy@imsc.res.in]() | **Web**    : [www.imsc.res.in/~rjoy]()  \n",
    "**Github** : [www.github.com/ronojoy]() | **Twitter**: @phyrjoy"
   ]
  },
  {
   "cell_type": "markdown",
   "metadata": {
    "slideshow": {
     "slide_type": "slide"
    }
   },
   "source": [
    "## Part 3 : Probabilistic graphical models\n",
    "\n",
    "<center>\n",
    "![](img/student-pgm.png)\n",
    "</center>"
   ]
  },
  {
   "cell_type": "markdown",
   "metadata": {
    "slideshow": {
     "slide_type": "slide"
    }
   },
   "source": [
    "### 3.1 : The Monty Hall problem\n",
    "\n",
    "\n",
    "<center>\n",
    "![](img/monty-hall-problem.jpg)\n",
    "</center>\n",
    "\n",
    "- You choose a door\n",
    "- Monty will open a door with a goat\n",
    "- Should you switch your choice ? \n",
    "\n",
    "<vskip>\n",
    "<center>\n",
    "**You have 10 seconds to answer**\n",
    "</center>"
   ]
  },
  {
   "cell_type": "code",
   "execution_count": null,
   "metadata": {
    "collapsed": false,
    "scrolled": true,
    "slideshow": {
     "slide_type": "slide"
    }
   },
   "outputs": [],
   "source": [
    "from lea import *\n",
    "\n",
    "# the prize is equally likely to be in any of the three doors\n",
    "prizedoor = Lea.fromVals('A', 'B', 'C')\n",
    "\n",
    "# the guest is equally likely to choose any of the three doors\n",
    "guestchoice = Lea.fromVals('A', 'B', 'C')\n",
    "\n",
    "# Monty chooses conditioned on both where the prize is and what the guest chose\n",
    "monty = Lea.buildCPT( ((prizedoor == 'A') & (guestchoice == 'A'), Lea.fromVals('B', 'C')), \n",
    "                      ((prizedoor == 'A') & (guestchoice == 'B'), Lea.fromVals('C')),\n",
    "                      ((prizedoor == 'A') & (guestchoice == 'C'), Lea.fromVals('B')),\n",
    "                      ((prizedoor == 'B') & (guestchoice == 'A'), Lea.fromVals('C')),\n",
    "                      ((prizedoor == 'B') & (guestchoice == 'B'), Lea.fromVals('A', 'C')),\n",
    "                      ((prizedoor == 'B') & (guestchoice == 'C'), Lea.fromVals('A')),\n",
    "                      ((prizedoor == 'C') & (guestchoice == 'A'), Lea.fromVals('B')),\n",
    "                      ((prizedoor == 'C') & (guestchoice == 'B'), Lea.fromVals('A')),\n",
    "                      ((prizedoor == 'C') & (guestchoice == 'C'), Lea.fromVals('A', 'B')),\n",
    "                    )\n",
    "# these define the probabilistic rules of the game\n",
    "# now lets check that the forward probabilities are sane"
   ]
  },
  {
   "cell_type": "code",
   "execution_count": null,
   "metadata": {
    "collapsed": false,
    "scrolled": true,
    "slideshow": {
     "slide_type": "subslide"
    }
   },
   "outputs": [],
   "source": [
    "# is Monty playing by the rules ? \n",
    "\n",
    "#monty.given((prizedoor == 'A'))\n",
    "#monty.given((prizedoor == 'B')) \n",
    "#monty.given((prizedoor == 'C'))\n",
    "\n",
    "#monty.given(guestchoice=='A')\n",
    "#monty.given(guestchoice=='B')\n",
    "#monty.given(guestchoice=='C')"
   ]
  },
  {
   "cell_type": "code",
   "execution_count": null,
   "metadata": {
    "collapsed": false,
    "scrolled": true,
    "slideshow": {
     "slide_type": "subslide"
    }
   },
   "outputs": [],
   "source": [
    "# now, query the graphical model with a diagnostic reasoning question\n",
    "\n",
    "# suppose the guest chose door A and monty revealed door B; where is \n",
    "# the prize likely to be ? \n",
    "\n",
    "# prompt audience for the beautiful one line code\n"
   ]
  },
  {
   "cell_type": "markdown",
   "metadata": {
    "slideshow": {
     "slide_type": "subslide"
    }
   },
   "source": [
    "### Intuitive explanation\n",
    "\n",
    "<center>\n",
    "<img src=\"img/monty-hall-solution.jpg\" style=\"width:640px;\">\n",
    "</center>"
   ]
  },
  {
   "cell_type": "markdown",
   "metadata": {
    "slideshow": {
     "slide_type": "slide"
    }
   },
   "source": [
    "## Exercise 3.1\n",
    "\n",
    "Build a student assesment model based on this structure and conditional probability tables\n",
    "\n",
    "<center>\n",
    "![](img/student-evaluation-1.png)\n",
    "</center>\n",
    "\n",
    "The categories for each node are \n",
    "\n",
    "```\n",
    "d -- difficulty = {easy, hard}\n",
    "i -- intelligence = {not_smart, smart}\n",
    "g -- grade = {A, B, C}\n",
    "s -- SAT = {low, high}\n",
    "l -- letter = {weak, strong}\n",
    "```"
   ]
  },
  {
   "cell_type": "markdown",
   "metadata": {
    "slideshow": {
     "slide_type": "subslide"
    }
   },
   "source": [
    "## Exercise 3.1\n",
    "\n",
    "**Query the model with the following questions**\n",
    "\n",
    "1. What is the probability of the student being **smart**, given **strong** letter and **low** SAT score ?\n",
    "2. What is the probability of the student being **smart**, given **weak** letter and **high** SAT score ?\n",
    "3. What is the probability of the student being **not smart**, given **strong** letter and **high** SAT score ?"
   ]
  },
  {
   "cell_type": "markdown",
   "metadata": {
    "slideshow": {
     "slide_type": "slide"
    }
   },
   "source": [
    "## Exercise 3.2\n",
    "\n",
    "Build a Naive Bayes classifier for the Titanic disaster and predict the probability of survival, given the attributes. \n",
    "\n",
    "- load the [data]() into a pandas data frame\n",
    "- compute the conditional probabilities for each attribute\n",
    "- construct the probabilistic graphical model\n",
    "- query it\n",
    "\n"
   ]
  }
 ],
 "metadata": {
  "celltoolbar": "Slideshow",
  "kernelspec": {
   "display_name": "Python 2",
   "language": "python",
   "name": "python2"
  },
  "language_info": {
   "codemirror_mode": {
    "name": "ipython",
    "version": 2
   },
   "file_extension": ".py",
   "mimetype": "text/x-python",
   "name": "python",
   "nbconvert_exporter": "python",
   "pygments_lexer": "ipython2",
   "version": "2.7.10"
  }
 },
 "nbformat": 4,
 "nbformat_minor": 0
}
